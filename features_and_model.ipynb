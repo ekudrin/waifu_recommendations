{
 "cells": [
  {
   "cell_type": "code",
   "id": "initial_id",
   "metadata": {
    "collapsed": true,
    "ExecuteTime": {
     "end_time": "2025-08-31T06:50:23.437555Z",
     "start_time": "2025-08-31T06:50:20.822104Z"
    }
   },
   "source": [
    "import os\n",
    "import torch\n",
    "import numpy as np\n",
    "import torchvision.transforms as transforms\n",
    "from PIL import Image\n",
    "from torchvision.models import resnet50\n",
    "\n"
   ],
   "outputs": [],
   "execution_count": 1
  },
  {
   "metadata": {
    "ExecuteTime": {
     "end_time": "2025-08-31T06:50:32.050885Z",
     "start_time": "2025-08-31T06:50:23.459502Z"
    }
   },
   "cell_type": "code",
   "source": [
    "# Подготовка предобученной сети ResNet50\n",
    "resnet_model = resnet50(weights='DEFAULT')"
   ],
   "id": "936603fce132ca",
   "outputs": [
    {
     "name": "stderr",
     "output_type": "stream",
     "text": [
      "C:\\Users\\chest\\PycharmProjects\\waifu_recommendations\\.venv\\Lib\\site-packages\\torchvision\\models\\_utils.py:208: UserWarning: The parameter 'pretrained' is deprecated since 0.13 and may be removed in the future, please use 'weights' instead.\n",
      "  warnings.warn(\n",
      "C:\\Users\\chest\\PycharmProjects\\waifu_recommendations\\.venv\\Lib\\site-packages\\torchvision\\models\\_utils.py:223: UserWarning: Arguments other than a weight enum or `None` for 'weights' are deprecated since 0.13 and may be removed in the future. The current behavior is equivalent to passing `weights=ResNet50_Weights.IMAGENET1K_V1`. You can also use `weights=ResNet50_Weights.DEFAULT` to get the most up-to-date weights.\n",
      "  warnings.warn(msg)\n"
     ]
    },
    {
     "name": "stdout",
     "output_type": "stream",
     "text": [
      "Downloading: \"https://download.pytorch.org/models/resnet50-0676ba61.pth\" to C:\\Users\\chest/.cache\\torch\\hub\\checkpoints\\resnet50-0676ba61.pth\n"
     ]
    },
    {
     "name": "stderr",
     "output_type": "stream",
     "text": [
      "100.0%\n"
     ]
    }
   ],
   "execution_count": 2
  },
  {
   "metadata": {
    "ExecuteTime": {
     "end_time": "2025-08-31T06:50:32.064253Z",
     "start_time": "2025-08-31T06:50:32.060870Z"
    }
   },
   "cell_type": "code",
   "source": [
    "# Удаляем последний слой классификации, оставляя только слои для экстракции признаков\n",
    "features_extractor = torch.nn.Sequential(*list(resnet_model.children())[:-1])"
   ],
   "id": "7b0a216508fd3143",
   "outputs": [],
   "execution_count": 3
  },
  {
   "metadata": {
    "ExecuteTime": {
     "end_time": "2025-08-31T06:50:32.092593Z",
     "start_time": "2025-08-31T06:50:32.088193Z"
    }
   },
   "cell_type": "code",
   "source": [
    "# Функция предварительной обработки изображений\n",
    "transform = transforms.Compose([\n",
    "    transforms.Resize((224, 224)),       # Преобразуем размеры изображений\n",
    "    transforms.ToTensor(),                # Конвертируем в Tensor\n",
    "    transforms.Normalize(mean=[0.485, 0.456, 0.406], std=[0.229, 0.224, 0.225])   # Нормализуем\n",
    "])"
   ],
   "id": "939f21cb4e686707",
   "outputs": [],
   "execution_count": 4
  },
  {
   "metadata": {
    "ExecuteTime": {
     "end_time": "2025-08-31T06:50:32.112880Z",
     "start_time": "2025-08-31T06:50:32.108555Z"
    }
   },
   "cell_type": "code",
   "source": [
    "# Функция для извлечения эмбеддингов из изображения\n",
    "def extract_features(image_path):\n",
    "    with torch.no_grad():\n",
    "        # Загружаем изображение\n",
    "        image = Image.open(image_path)\n",
    "\n",
    "        # Применяем преобразования\n",
    "        transformed_image = transform(image).unsqueeze(0)\n",
    "\n",
    "        # Экстрагируем эмбеддинги\n",
    "        embedding = features_extractor(transformed_image)\n",
    "\n",
    "        # Приводим размерность к одномерному вектору\n",
    "        flattened_embedding = embedding.view(-1)\n",
    "\n",
    "    return flattened_embedding.numpy()"
   ],
   "id": "ac9014c25c7b62b",
   "outputs": [],
   "execution_count": 5
  },
  {
   "metadata": {
    "ExecuteTime": {
     "end_time": "2025-08-31T06:51:18.380588Z",
     "start_time": "2025-08-31T06:51:18.237127Z"
    }
   },
   "cell_type": "code",
   "source": [
    "images = os.listdir('waifus/images/')\n",
    "\n",
    "\n",
    "all_names = []\n",
    "all_vectors = None\n",
    "features_extractor.eval()\n",
    "root = 'waifus/images/'\n",
    "\n",
    "\n",
    "for i, file in enumerate(images):\n",
    "    img = Image.open(root + file)\n",
    "    transformed_image = transform(img).unsqueeze(0)\n",
    "\n",
    "    # Экстрагируем эмбеддинги\n",
    "    embedding = features_extractor(transformed_image)\n",
    "\n",
    "    # Приводим размерность к одномерному вектору\n",
    "    flattened_embedding = embedding.view(-1)\n",
    "\n",
    "    if all_vectors is None:\n",
    "        all_vectors = flattened_embedding\n",
    "    else:\n",
    "        all_vectors = np.concatenate((all_vectors, flattened_embedding), axis=0)\n",
    "    all_names.append(file)\n",
    "\n",
    "\n"
   ],
   "id": "ac04c8e8e57c629b",
   "outputs": [
    {
     "name": "stdout",
     "output_type": "stream",
     "text": [
      "(2048,)\n"
     ]
    }
   ],
   "execution_count": 7
  },
  {
   "metadata": {},
   "cell_type": "code",
   "outputs": [],
   "execution_count": null,
   "source": [
    "np.save('all_vectors.npy', all_vectors)\n",
    "np.save('all_names.npy', all_names)"
   ],
   "id": "7864ea81926aada8"
  }
 ],
 "metadata": {
  "kernelspec": {
   "display_name": "Python 3",
   "language": "python",
   "name": "python3"
  },
  "language_info": {
   "codemirror_mode": {
    "name": "ipython",
    "version": 2
   },
   "file_extension": ".py",
   "mimetype": "text/x-python",
   "name": "python",
   "nbconvert_exporter": "python",
   "pygments_lexer": "ipython2",
   "version": "2.7.6"
  }
 },
 "nbformat": 4,
 "nbformat_minor": 5
}
